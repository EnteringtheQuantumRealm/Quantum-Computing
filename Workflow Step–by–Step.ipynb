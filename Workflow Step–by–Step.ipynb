{
 "cells": [
  {
   "cell_type": "code",
   "execution_count": 1,
   "id": "73b0b986-7e35-4604-966d-bc1c4ada81ec",
   "metadata": {},
   "outputs": [
    {
     "name": "stdout",
     "output_type": "stream",
     "text": [
      "Requirement already satisfied: qiskit in /Users/quantumaugust/tutorial-env/lib/python3.9/site-packages (0.44.1)\n",
      "Requirement already satisfied: qiskit-terra==0.25.1 in /Users/quantumaugust/tutorial-env/lib/python3.9/site-packages (from qiskit) (0.25.1)\n",
      "Requirement already satisfied: rustworkx>=0.13.0 in /Users/quantumaugust/tutorial-env/lib/python3.9/site-packages (from qiskit-terra==0.25.1->qiskit) (0.13.1)\n",
      "Requirement already satisfied: numpy>=1.17 in /Users/quantumaugust/tutorial-env/lib/python3.9/site-packages (from qiskit-terra==0.25.1->qiskit) (1.26.0)\n",
      "Requirement already satisfied: ply>=3.10 in /Users/quantumaugust/tutorial-env/lib/python3.9/site-packages (from qiskit-terra==0.25.1->qiskit) (3.11)\n",
      "Requirement already satisfied: psutil>=5 in /Users/quantumaugust/tutorial-env/lib/python3.9/site-packages (from qiskit-terra==0.25.1->qiskit) (5.9.5)\n",
      "Requirement already satisfied: scipy>=1.5 in /Users/quantumaugust/tutorial-env/lib/python3.9/site-packages (from qiskit-terra==0.25.1->qiskit) (1.11.2)\n",
      "Requirement already satisfied: sympy>=1.3 in /Users/quantumaugust/tutorial-env/lib/python3.9/site-packages (from qiskit-terra==0.25.1->qiskit) (1.12)\n",
      "Requirement already satisfied: dill>=0.3 in /Users/quantumaugust/tutorial-env/lib/python3.9/site-packages (from qiskit-terra==0.25.1->qiskit) (0.3.7)\n",
      "Requirement already satisfied: python-dateutil>=2.8.0 in /Users/quantumaugust/tutorial-env/lib/python3.9/site-packages (from qiskit-terra==0.25.1->qiskit) (2.8.2)\n",
      "Requirement already satisfied: stevedore>=3.0.0 in /Users/quantumaugust/tutorial-env/lib/python3.9/site-packages (from qiskit-terra==0.25.1->qiskit) (5.1.0)\n",
      "Requirement already satisfied: symengine<0.10,>=0.9 in /Users/quantumaugust/tutorial-env/lib/python3.9/site-packages (from qiskit-terra==0.25.1->qiskit) (0.9.2)\n",
      "Requirement already satisfied: typing-extensions in /Users/quantumaugust/tutorial-env/lib/python3.9/site-packages (from qiskit-terra==0.25.1->qiskit) (4.8.0)\n",
      "Requirement already satisfied: six>=1.5 in /Users/quantumaugust/tutorial-env/lib/python3.9/site-packages (from python-dateutil>=2.8.0->qiskit-terra==0.25.1->qiskit) (1.16.0)\n",
      "Requirement already satisfied: pbr!=2.1.0,>=2.0.0 in /Users/quantumaugust/tutorial-env/lib/python3.9/site-packages (from stevedore>=3.0.0->qiskit-terra==0.25.1->qiskit) (5.11.1)\n",
      "Requirement already satisfied: mpmath>=0.19 in /Users/quantumaugust/tutorial-env/lib/python3.9/site-packages (from sympy>=1.3->qiskit-terra==0.25.1->qiskit) (1.3.0)\n",
      "Note: you may need to restart the kernel to use updated packages.\n"
     ]
    }
   ],
   "source": [
    "pip install qiskit"
   ]
  },
  {
   "cell_type": "code",
   "execution_count": 2,
   "id": "637cb03f-801e-461f-a2bb-16cd5066547b",
   "metadata": {},
   "outputs": [
    {
     "name": "stdout",
     "output_type": "stream",
     "text": [
      "Requirement already satisfied: qiskit[visualization] in /Users/quantumaugust/tutorial-env/lib/python3.9/site-packages (0.44.1)\n",
      "Requirement already satisfied: qiskit-terra==0.25.1 in /Users/quantumaugust/tutorial-env/lib/python3.9/site-packages (from qiskit[visualization]) (0.25.1)\n",
      "Requirement already satisfied: rustworkx>=0.13.0 in /Users/quantumaugust/tutorial-env/lib/python3.9/site-packages (from qiskit-terra==0.25.1->qiskit[visualization]) (0.13.1)\n",
      "Requirement already satisfied: numpy>=1.17 in /Users/quantumaugust/tutorial-env/lib/python3.9/site-packages (from qiskit-terra==0.25.1->qiskit[visualization]) (1.26.0)\n",
      "Requirement already satisfied: ply>=3.10 in /Users/quantumaugust/tutorial-env/lib/python3.9/site-packages (from qiskit-terra==0.25.1->qiskit[visualization]) (3.11)\n",
      "Requirement already satisfied: psutil>=5 in /Users/quantumaugust/tutorial-env/lib/python3.9/site-packages (from qiskit-terra==0.25.1->qiskit[visualization]) (5.9.5)\n",
      "Requirement already satisfied: scipy>=1.5 in /Users/quantumaugust/tutorial-env/lib/python3.9/site-packages (from qiskit-terra==0.25.1->qiskit[visualization]) (1.11.2)\n",
      "Requirement already satisfied: sympy>=1.3 in /Users/quantumaugust/tutorial-env/lib/python3.9/site-packages (from qiskit-terra==0.25.1->qiskit[visualization]) (1.12)\n",
      "Requirement already satisfied: dill>=0.3 in /Users/quantumaugust/tutorial-env/lib/python3.9/site-packages (from qiskit-terra==0.25.1->qiskit[visualization]) (0.3.7)\n",
      "Requirement already satisfied: python-dateutil>=2.8.0 in /Users/quantumaugust/tutorial-env/lib/python3.9/site-packages (from qiskit-terra==0.25.1->qiskit[visualization]) (2.8.2)\n",
      "Requirement already satisfied: stevedore>=3.0.0 in /Users/quantumaugust/tutorial-env/lib/python3.9/site-packages (from qiskit-terra==0.25.1->qiskit[visualization]) (5.1.0)\n",
      "Requirement already satisfied: symengine<0.10,>=0.9 in /Users/quantumaugust/tutorial-env/lib/python3.9/site-packages (from qiskit-terra==0.25.1->qiskit[visualization]) (0.9.2)\n",
      "Requirement already satisfied: typing-extensions in /Users/quantumaugust/tutorial-env/lib/python3.9/site-packages (from qiskit-terra==0.25.1->qiskit[visualization]) (4.8.0)\n",
      "Requirement already satisfied: matplotlib>=3.3 in /Users/quantumaugust/tutorial-env/lib/python3.9/site-packages (from qiskit-terra==0.25.1->qiskit[visualization]) (3.8.0)\n",
      "Requirement already satisfied: ipywidgets>=7.3.0 in /Users/quantumaugust/tutorial-env/lib/python3.9/site-packages (from qiskit-terra==0.25.1->qiskit[visualization]) (8.1.1)\n",
      "Requirement already satisfied: pydot in /Users/quantumaugust/tutorial-env/lib/python3.9/site-packages (from qiskit-terra==0.25.1->qiskit[visualization]) (1.4.2)\n",
      "Requirement already satisfied: pillow>=4.2.1 in /Users/quantumaugust/tutorial-env/lib/python3.9/site-packages (from qiskit-terra==0.25.1->qiskit[visualization]) (10.0.1)\n",
      "Requirement already satisfied: pylatexenc>=1.4 in /Users/quantumaugust/tutorial-env/lib/python3.9/site-packages (from qiskit-terra==0.25.1->qiskit[visualization]) (2.10)\n",
      "Requirement already satisfied: seaborn>=0.9.0 in /Users/quantumaugust/tutorial-env/lib/python3.9/site-packages (from qiskit-terra==0.25.1->qiskit[visualization]) (0.12.2)\n",
      "Requirement already satisfied: pygments>=2.4 in /Users/quantumaugust/tutorial-env/lib/python3.9/site-packages (from qiskit-terra==0.25.1->qiskit[visualization]) (2.16.1)\n",
      "Requirement already satisfied: comm>=0.1.3 in /Users/quantumaugust/tutorial-env/lib/python3.9/site-packages (from ipywidgets>=7.3.0->qiskit-terra==0.25.1->qiskit[visualization]) (0.1.4)\n",
      "Requirement already satisfied: ipython>=6.1.0 in /Users/quantumaugust/tutorial-env/lib/python3.9/site-packages (from ipywidgets>=7.3.0->qiskit-terra==0.25.1->qiskit[visualization]) (8.15.0)\n",
      "Requirement already satisfied: traitlets>=4.3.1 in /Users/quantumaugust/tutorial-env/lib/python3.9/site-packages (from ipywidgets>=7.3.0->qiskit-terra==0.25.1->qiskit[visualization]) (5.10.0)\n",
      "Requirement already satisfied: widgetsnbextension~=4.0.9 in /Users/quantumaugust/tutorial-env/lib/python3.9/site-packages (from ipywidgets>=7.3.0->qiskit-terra==0.25.1->qiskit[visualization]) (4.0.9)\n",
      "Requirement already satisfied: jupyterlab-widgets~=3.0.9 in /Users/quantumaugust/tutorial-env/lib/python3.9/site-packages (from ipywidgets>=7.3.0->qiskit-terra==0.25.1->qiskit[visualization]) (3.0.9)\n",
      "Requirement already satisfied: contourpy>=1.0.1 in /Users/quantumaugust/tutorial-env/lib/python3.9/site-packages (from matplotlib>=3.3->qiskit-terra==0.25.1->qiskit[visualization]) (1.1.1)\n",
      "Requirement already satisfied: cycler>=0.10 in /Users/quantumaugust/tutorial-env/lib/python3.9/site-packages (from matplotlib>=3.3->qiskit-terra==0.25.1->qiskit[visualization]) (0.11.0)\n",
      "Requirement already satisfied: fonttools>=4.22.0 in /Users/quantumaugust/tutorial-env/lib/python3.9/site-packages (from matplotlib>=3.3->qiskit-terra==0.25.1->qiskit[visualization]) (4.42.1)\n",
      "Requirement already satisfied: kiwisolver>=1.0.1 in /Users/quantumaugust/tutorial-env/lib/python3.9/site-packages (from matplotlib>=3.3->qiskit-terra==0.25.1->qiskit[visualization]) (1.4.5)\n",
      "Requirement already satisfied: packaging>=20.0 in /Users/quantumaugust/tutorial-env/lib/python3.9/site-packages (from matplotlib>=3.3->qiskit-terra==0.25.1->qiskit[visualization]) (23.1)\n",
      "Requirement already satisfied: pyparsing>=2.3.1 in /Users/quantumaugust/tutorial-env/lib/python3.9/site-packages (from matplotlib>=3.3->qiskit-terra==0.25.1->qiskit[visualization]) (3.1.1)\n",
      "Requirement already satisfied: importlib-resources>=3.2.0 in /Users/quantumaugust/tutorial-env/lib/python3.9/site-packages (from matplotlib>=3.3->qiskit-terra==0.25.1->qiskit[visualization]) (6.1.0)\n",
      "Requirement already satisfied: six>=1.5 in /Users/quantumaugust/tutorial-env/lib/python3.9/site-packages (from python-dateutil>=2.8.0->qiskit-terra==0.25.1->qiskit[visualization]) (1.16.0)\n",
      "Requirement already satisfied: pandas>=0.25 in /Users/quantumaugust/tutorial-env/lib/python3.9/site-packages (from seaborn>=0.9.0->qiskit-terra==0.25.1->qiskit[visualization]) (2.1.1)\n",
      "Requirement already satisfied: pbr!=2.1.0,>=2.0.0 in /Users/quantumaugust/tutorial-env/lib/python3.9/site-packages (from stevedore>=3.0.0->qiskit-terra==0.25.1->qiskit[visualization]) (5.11.1)\n",
      "Requirement already satisfied: mpmath>=0.19 in /Users/quantumaugust/tutorial-env/lib/python3.9/site-packages (from sympy>=1.3->qiskit-terra==0.25.1->qiskit[visualization]) (1.3.0)\n",
      "Requirement already satisfied: zipp>=3.1.0 in /Users/quantumaugust/tutorial-env/lib/python3.9/site-packages (from importlib-resources>=3.2.0->matplotlib>=3.3->qiskit-terra==0.25.1->qiskit[visualization]) (3.17.0)\n",
      "Requirement already satisfied: backcall in /Users/quantumaugust/tutorial-env/lib/python3.9/site-packages (from ipython>=6.1.0->ipywidgets>=7.3.0->qiskit-terra==0.25.1->qiskit[visualization]) (0.2.0)\n",
      "Requirement already satisfied: decorator in /Users/quantumaugust/tutorial-env/lib/python3.9/site-packages (from ipython>=6.1.0->ipywidgets>=7.3.0->qiskit-terra==0.25.1->qiskit[visualization]) (5.1.1)\n",
      "Requirement already satisfied: jedi>=0.16 in /Users/quantumaugust/tutorial-env/lib/python3.9/site-packages (from ipython>=6.1.0->ipywidgets>=7.3.0->qiskit-terra==0.25.1->qiskit[visualization]) (0.19.0)\n",
      "Requirement already satisfied: matplotlib-inline in /Users/quantumaugust/tutorial-env/lib/python3.9/site-packages (from ipython>=6.1.0->ipywidgets>=7.3.0->qiskit-terra==0.25.1->qiskit[visualization]) (0.1.6)\n",
      "Requirement already satisfied: pickleshare in /Users/quantumaugust/tutorial-env/lib/python3.9/site-packages (from ipython>=6.1.0->ipywidgets>=7.3.0->qiskit-terra==0.25.1->qiskit[visualization]) (0.7.5)\n",
      "Requirement already satisfied: prompt-toolkit!=3.0.37,<3.1.0,>=3.0.30 in /Users/quantumaugust/tutorial-env/lib/python3.9/site-packages (from ipython>=6.1.0->ipywidgets>=7.3.0->qiskit-terra==0.25.1->qiskit[visualization]) (3.0.39)\n",
      "Requirement already satisfied: stack-data in /Users/quantumaugust/tutorial-env/lib/python3.9/site-packages (from ipython>=6.1.0->ipywidgets>=7.3.0->qiskit-terra==0.25.1->qiskit[visualization]) (0.6.2)\n",
      "Requirement already satisfied: exceptiongroup in /Users/quantumaugust/tutorial-env/lib/python3.9/site-packages (from ipython>=6.1.0->ipywidgets>=7.3.0->qiskit-terra==0.25.1->qiskit[visualization]) (1.1.3)\n",
      "Requirement already satisfied: pexpect>4.3 in /Users/quantumaugust/tutorial-env/lib/python3.9/site-packages (from ipython>=6.1.0->ipywidgets>=7.3.0->qiskit-terra==0.25.1->qiskit[visualization]) (4.8.0)\n",
      "Requirement already satisfied: appnope in /Users/quantumaugust/tutorial-env/lib/python3.9/site-packages (from ipython>=6.1.0->ipywidgets>=7.3.0->qiskit-terra==0.25.1->qiskit[visualization]) (0.1.3)\n",
      "Requirement already satisfied: pytz>=2020.1 in /Users/quantumaugust/tutorial-env/lib/python3.9/site-packages (from pandas>=0.25->seaborn>=0.9.0->qiskit-terra==0.25.1->qiskit[visualization]) (2023.3.post1)\n",
      "Requirement already satisfied: tzdata>=2022.1 in /Users/quantumaugust/tutorial-env/lib/python3.9/site-packages (from pandas>=0.25->seaborn>=0.9.0->qiskit-terra==0.25.1->qiskit[visualization]) (2023.3)\n",
      "Requirement already satisfied: parso<0.9.0,>=0.8.3 in /Users/quantumaugust/tutorial-env/lib/python3.9/site-packages (from jedi>=0.16->ipython>=6.1.0->ipywidgets>=7.3.0->qiskit-terra==0.25.1->qiskit[visualization]) (0.8.3)\n",
      "Requirement already satisfied: ptyprocess>=0.5 in /Users/quantumaugust/tutorial-env/lib/python3.9/site-packages (from pexpect>4.3->ipython>=6.1.0->ipywidgets>=7.3.0->qiskit-terra==0.25.1->qiskit[visualization]) (0.7.0)\n",
      "Requirement already satisfied: wcwidth in /Users/quantumaugust/tutorial-env/lib/python3.9/site-packages (from prompt-toolkit!=3.0.37,<3.1.0,>=3.0.30->ipython>=6.1.0->ipywidgets>=7.3.0->qiskit-terra==0.25.1->qiskit[visualization]) (0.2.6)\n",
      "Requirement already satisfied: executing>=1.2.0 in /Users/quantumaugust/tutorial-env/lib/python3.9/site-packages (from stack-data->ipython>=6.1.0->ipywidgets>=7.3.0->qiskit-terra==0.25.1->qiskit[visualization]) (1.2.0)\n",
      "Requirement already satisfied: asttokens>=2.1.0 in /Users/quantumaugust/tutorial-env/lib/python3.9/site-packages (from stack-data->ipython>=6.1.0->ipywidgets>=7.3.0->qiskit-terra==0.25.1->qiskit[visualization]) (2.4.0)\n",
      "Requirement already satisfied: pure-eval in /Users/quantumaugust/tutorial-env/lib/python3.9/site-packages (from stack-data->ipython>=6.1.0->ipywidgets>=7.3.0->qiskit-terra==0.25.1->qiskit[visualization]) (0.2.2)\n",
      "Note: you may need to restart the kernel to use updated packages.\n"
     ]
    }
   ],
   "source": [
    "pip install 'qiskit[visualization]'"
   ]
  },
  {
   "cell_type": "code",
   "execution_count": 3,
   "id": "463afa77-19cb-4d93-859b-aec00d12d72d",
   "metadata": {},
   "outputs": [
    {
     "name": "stdout",
     "output_type": "stream",
     "text": [
      "Requirement already satisfied: qiskit_aer in /Users/quantumaugust/tutorial-env/lib/python3.9/site-packages (0.12.2)\n",
      "Requirement already satisfied: qiskit-terra>=0.21.0 in /Users/quantumaugust/tutorial-env/lib/python3.9/site-packages (from qiskit_aer) (0.25.1)\n",
      "Requirement already satisfied: numpy>=1.16.3 in /Users/quantumaugust/tutorial-env/lib/python3.9/site-packages (from qiskit_aer) (1.26.0)\n",
      "Requirement already satisfied: scipy>=1.0 in /Users/quantumaugust/tutorial-env/lib/python3.9/site-packages (from qiskit_aer) (1.11.2)\n",
      "Requirement already satisfied: rustworkx>=0.13.0 in /Users/quantumaugust/tutorial-env/lib/python3.9/site-packages (from qiskit-terra>=0.21.0->qiskit_aer) (0.13.1)\n",
      "Requirement already satisfied: ply>=3.10 in /Users/quantumaugust/tutorial-env/lib/python3.9/site-packages (from qiskit-terra>=0.21.0->qiskit_aer) (3.11)\n",
      "Requirement already satisfied: psutil>=5 in /Users/quantumaugust/tutorial-env/lib/python3.9/site-packages (from qiskit-terra>=0.21.0->qiskit_aer) (5.9.5)\n",
      "Requirement already satisfied: sympy>=1.3 in /Users/quantumaugust/tutorial-env/lib/python3.9/site-packages (from qiskit-terra>=0.21.0->qiskit_aer) (1.12)\n",
      "Requirement already satisfied: dill>=0.3 in /Users/quantumaugust/tutorial-env/lib/python3.9/site-packages (from qiskit-terra>=0.21.0->qiskit_aer) (0.3.7)\n",
      "Requirement already satisfied: python-dateutil>=2.8.0 in /Users/quantumaugust/tutorial-env/lib/python3.9/site-packages (from qiskit-terra>=0.21.0->qiskit_aer) (2.8.2)\n",
      "Requirement already satisfied: stevedore>=3.0.0 in /Users/quantumaugust/tutorial-env/lib/python3.9/site-packages (from qiskit-terra>=0.21.0->qiskit_aer) (5.1.0)\n",
      "Requirement already satisfied: symengine<0.10,>=0.9 in /Users/quantumaugust/tutorial-env/lib/python3.9/site-packages (from qiskit-terra>=0.21.0->qiskit_aer) (0.9.2)\n",
      "Requirement already satisfied: typing-extensions in /Users/quantumaugust/tutorial-env/lib/python3.9/site-packages (from qiskit-terra>=0.21.0->qiskit_aer) (4.8.0)\n",
      "Requirement already satisfied: six>=1.5 in /Users/quantumaugust/tutorial-env/lib/python3.9/site-packages (from python-dateutil>=2.8.0->qiskit-terra>=0.21.0->qiskit_aer) (1.16.0)\n",
      "Requirement already satisfied: pbr!=2.1.0,>=2.0.0 in /Users/quantumaugust/tutorial-env/lib/python3.9/site-packages (from stevedore>=3.0.0->qiskit-terra>=0.21.0->qiskit_aer) (5.11.1)\n",
      "Requirement already satisfied: mpmath>=0.19 in /Users/quantumaugust/tutorial-env/lib/python3.9/site-packages (from sympy>=1.3->qiskit-terra>=0.21.0->qiskit_aer) (1.3.0)\n",
      "Note: you may need to restart the kernel to use updated packages.\n"
     ]
    }
   ],
   "source": [
    "pip install qiskit_aer"
   ]
  },
  {
   "cell_type": "markdown",
   "id": "d949e8b5-4c25-4558-9579-855d5ab0e9d7",
   "metadata": {},
   "source": [
    "# Step 1 : Import Packages\n",
    "QuantumCircuit: can be thought as the instructions of the quantum system. It holds all your quantum operations.\n",
    "AerSimulator: is the Aer high performance circuit simulator.\n",
    "plot_histogram: creates histograms."
   ]
  },
  {
   "cell_type": "code",
   "execution_count": 4,
   "id": "591ec195-ac8b-49d7-ad96-f47e96684673",
   "metadata": {},
   "outputs": [],
   "source": [
    "from qiskit import QuantumCircuit, transpile\n",
    "from qiskit_aer import AerSimulator\n",
    "from qiskit.visualization import plot_histogram"
   ]
  },
  {
   "cell_type": "markdown",
   "id": "6cab0970-3eba-4cf9-9c34-c571e013a641",
   "metadata": {},
   "source": [
    "# Step 2 : Initialize Variables\n",
    "Here, you are initializing with 2 qubits in the zero state; with 2 classical bits set to zero; and circuit is the quantum circuit.\n",
    "Syntax:\n",
    "\n",
    "QuantumCircuit(int, int)"
   ]
  },
  {
   "cell_type": "code",
   "execution_count": 5,
   "id": "0478af04-22dd-4fde-921b-330c3a9a1d09",
   "metadata": {},
   "outputs": [],
   "source": [
    "# Create a Quantum Circuit acting on the q register\n",
    "circuit = QuantumCircuit(2, 2)"
   ]
  },
  {
   "cell_type": "markdown",
   "id": "cc2e3cf9-7c10-447a-94cf-99b785c7fe18",
   "metadata": {},
   "source": [
    "# Step 3 : Add Gates\n",
    "You can add gates (operations) to manipulate the registers of your circuit.\n",
    "\n",
    "The gates are added to the circuit one-by-one to form the Bell state\n",
    "\n",
    "The code above applies the following gates:\n",
    "* QuantumCircuit.h(0): A Hadamard gate H  on qubit 0, which puts it into a superposition state.\n",
    "* QuantumCircuit.cx(0, 1): A controlled-Not operation (CNOT) on control qubit 0 and target qubit 1, putting the qubits in an entangled state.\n",
    "* QuantumCircuit.measure([0,1], [0,1]): if you pass the entire quantum and classical registers to measure, the ith qubit’s measurement result will be stored in the ith classical bit."
   ]
  },
  {
   "cell_type": "code",
   "execution_count": 6,
   "id": "731daf07-6335-4024-9531-b02eeaa5bfe8",
   "metadata": {},
   "outputs": [
    {
     "data": {
      "text/plain": [
       "<qiskit.circuit.instructionset.InstructionSet at 0x1449d5d60>"
      ]
     },
     "execution_count": 6,
     "metadata": {},
     "output_type": "execute_result"
    }
   ],
   "source": [
    "# Add a H gate on qubit 0\n",
    "circuit.h(0)"
   ]
  },
  {
   "cell_type": "code",
   "execution_count": 7,
   "id": "0603ebfe-0a91-4fcc-98e5-aedc1053568c",
   "metadata": {},
   "outputs": [
    {
     "data": {
      "text/plain": [
       "<qiskit.circuit.instructionset.InstructionSet at 0x144a16a90>"
      ]
     },
     "execution_count": 7,
     "metadata": {},
     "output_type": "execute_result"
    }
   ],
   "source": [
    "# Add a CX (CNOT) gate on control qubit 0 and target qubit 1\n",
    "circuit.cx(0, 1)"
   ]
  },
  {
   "cell_type": "code",
   "execution_count": 8,
   "id": "1ece9f7c-933d-4a86-a795-14177a41cd6a",
   "metadata": {},
   "outputs": [
    {
     "data": {
      "text/plain": [
       "<qiskit.circuit.instructionset.InstructionSet at 0x144a16880>"
      ]
     },
     "execution_count": 8,
     "metadata": {},
     "output_type": "execute_result"
    }
   ],
   "source": [
    "# Map the quantum measurement to the classical bits\n",
    "circuit.measure([0, 1], [0, 1])"
   ]
  },
  {
   "cell_type": "markdown",
   "id": "e0853669-a90f-4306-b582-639f590d9549",
   "metadata": {},
   "source": [
    "# Step 4 : Visualize the Circuit\n",
    "You can use qiskit.circuit.QuantumCircuit.draw() to view the circuit that you have designed in the various forms used in many textbooks and research articles."
   ]
  },
  {
   "cell_type": "code",
   "execution_count": 9,
   "id": "2bc3b6cd-6c58-4f49-bf87-cce50b259d77",
   "metadata": {},
   "outputs": [
    {
     "data": {
      "image/png": "[encoded data removed]",
      "text/plain": [
       "<Figure size 454.517x284.278 with 1 Axes>"
      ]
     },
     "execution_count": 9,
     "metadata": {},
     "output_type": "execute_result"
    }
   ],
   "source": [
    "# Draw the circuit\n",
    "circuit.draw(\"mpl\")"
   ]
  },
  {
   "cell_type": "markdown",
   "id": "fc778126-c72e-48ec-aa8b-f08b9578775e",
   "metadata": {
    "jupyter": {
     "source_hidden": true
    }
   },
   "source": [
    "In this circuit, the qubits are ordered with qubit zero at the top and qubit one at the bottom. The circuit is read left-to-right, meaning that gates which are applied earlier in the circuit show up farther to the left.\n",
    "\n",
    "The default backend for **QuantumCircuit.draw()** or **qiskit.visualization.circuit_drawer()** is the text backend. However, depending on your local environment you may want to change these defaults to something better suited for your use case. This is done with the user config file. By default the user config file should be located in **~/.qiskit/settings.conf** and is a **.ini** file."
   ]
  },
  {
   "cell_type": "markdown",
   "id": "d832ad30-188d-4671-8171-fed78fc59584",
   "metadata": {},
   "source": [
    "# Step 5 : Simulate the Experiment\n",
    "Qiskit Aer is a high performance simulator framework for quantum circuits. It provides several backends to achieve different simulation goals.\n",
    "\n",
    "If you have issues installing Aer, you can alternatively use the Basic Aer provider by replacing Aer with BasicAer. Basic Aer is included in Qiskit."
   ]
  },
  {
   "cell_type": "code",
   "execution_count": 10,
   "id": "335dbffb-93dd-42f9-96d3-8c624953ed84",
   "metadata": {},
   "outputs": [],
   "source": [
    "from qiskit import QuantumCircuit, transpile\n",
    "from qiskit.providers.basicaer import QasmSimulatorPy"
   ]
  },
  {
   "cell_type": "markdown",
   "id": "701f6625-5bac-4ff6-8809-924652cb08c0",
   "metadata": {},
   "source": [
    "To simulate this circuit, you will use the AerSimulator. Each run of this circuit will yield either the bit string 00 or 11."
   ]
  },
  {
   "cell_type": "code",
   "execution_count": 11,
   "id": "98f0f1a4-795a-4162-9a60-743f88770287",
   "metadata": {},
   "outputs": [],
   "source": [
    "# Use Aer's AerSimulator\n",
    "simulator = AerSimulator()"
   ]
  },
  {
   "cell_type": "code",
   "execution_count": 12,
   "id": "74062a9a-0840-410e-b503-1cb467d72a8f",
   "metadata": {},
   "outputs": [],
   "source": [
    "# Compile the circuit for the support instruction set (basis_gates)\n",
    "# and topology (coupling_map) of the backend\n",
    "compiled_circuit = transpile(circuit, simulator)"
   ]
  },
  {
   "cell_type": "code",
   "execution_count": 13,
   "id": "b2dfea01-fbba-4c65-bfbe-9656d5ac31b9",
   "metadata": {},
   "outputs": [],
   "source": [
    "# Execute the circuit on the aer simulator\n",
    "job = simulator.run(compiled_circuit, shots=1000)"
   ]
  },
  {
   "cell_type": "code",
   "execution_count": 14,
   "id": "0e76aca1-8596-4236-a489-e1885cfa1bed",
   "metadata": {},
   "outputs": [],
   "source": [
    "# Grab results from the job\n",
    "result = job.result()"
   ]
  },
  {
   "cell_type": "code",
   "execution_count": 15,
   "id": "5b2e020d-eaf3-42ef-818b-f80cb0259ed6",
   "metadata": {},
   "outputs": [
    {
     "name": "stdout",
     "output_type": "stream",
     "text": [
      "\n",
      "Total count for 00 and 11 are: {'11': 486, '00': 514}\n"
     ]
    }
   ],
   "source": [
    "# Returns counts\n",
    "counts = result.get_counts(compiled_circuit)\n",
    "print(\"\\nTotal count for 00 and 11 are:\", counts)"
   ]
  },
  {
   "cell_type": "markdown",
   "id": "250c60be-230c-4776-b425-0c6cbc0687ee",
   "metadata": {},
   "source": [
    "As expected, the output bit string is 00 approximately 50 percent of the time. The number of times the circuit is run can be specified via the shots argument of the execute method. The number of shots of the simulation was set to be 1000 (the default is 1024).\n",
    "\n",
    "Once you have a result object, you can access the counts via the method get_counts(circuit). This gives you the aggregate outcomes of the experiment you ran."
   ]
  },
  {
   "cell_type": "markdown",
   "id": "d3778538-d718-4157-b208-67801103cf6d",
   "metadata": {},
   "source": [
    "# Step 6 : Visualize the Results\n",
    "Qiskit provides many visualizations (https://qiskit.org/documentation/apidoc/visualization.html),\n",
    "including the function plot_histogram, to view your results."
   ]
  },
  {
   "cell_type": "code",
   "execution_count": 16,
   "id": "5bf44d31-18ee-49f5-a45e-5b0a01c10128",
   "metadata": {},
   "outputs": [
    {
     "data": {
      "image/png": "[encoded data removed]",
      "text/plain": [
       "<Figure size 700x500 with 1 Axes>"
      ]
     },
     "execution_count": 16,
     "metadata": {},
     "output_type": "execute_result"
    }
   ],
   "source": [
    "# Plot a histogram\n",
    "plot_histogram(counts)"
   ]
  },
  {
   "cell_type": "markdown",
   "id": "371db165-ba1a-4475-a086-39eace889421",
   "metadata": {},
   "source": []
  }
 ],
 "metadata": {
  "kernelspec": {
   "display_name": "Python 3 (ipykernel)",
   "language": "python",
   "name": "python3"
  },
  "language_info": {
   "codemirror_mode": {
    "name": "ipython",
    "version": 3
   },
   "file_extension": ".py",
   "mimetype": "text/x-python",
   "name": "python",
   "nbconvert_exporter": "python",
   "pygments_lexer": "ipython3",
   "version": "3.9.6"
  }
 },
 "nbformat": 4,
 "nbformat_minor": 5
}
